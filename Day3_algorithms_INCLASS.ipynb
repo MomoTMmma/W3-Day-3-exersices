{
 "cells": [
  {
   "cell_type": "markdown",
   "metadata": {},
   "source": [
    "# Algorithms, Binary Search & Sorting"
   ]
  },
  {
   "cell_type": "markdown",
   "metadata": {},
   "source": [
    "## Tasks Today:\n",
    " \n",
    "1) <b>In-Place Algorithms</b> <br>\n",
    " &nbsp;&nbsp;&nbsp;&nbsp; a) Syntax <br>\n",
    " &nbsp;&nbsp;&nbsp;&nbsp; a) Out of Place Algorithm <br>\n",
    " &nbsp;&nbsp;&nbsp;&nbsp; b) In-Class Exercise #1 <br>\n",
    "2) <b>Two Pointers</b> <br>\n",
    "3) <b>Sorting Algos</b> <br>\n",
    " &nbsp;&nbsp;&nbsp;&nbsp; a) Video on Algorithms <br>\n",
    " &nbsp;&nbsp;&nbsp;&nbsp; b) How it Works <br>\n",
    "4) <b>Exercises</b> <br>\n",
    " &nbsp;&nbsp;&nbsp;&nbsp; a) Exercise #1 - Reverse a List in Place Using an In-Place Algorithm <br>\n",
    " &nbsp;&nbsp;&nbsp;&nbsp; b) Exercise #2 - Find Distinct Words <br>\n",
    " &nbsp;&nbsp;&nbsp;&nbsp; c) Exercise #3 - Write a program to implement a Linear Search Algorithm. <br>"
   ]
  },
  {
   "cell_type": "markdown",
   "metadata": {},
   "source": [
    "## In-Place Algorithms"
   ]
  },
  {
   "cell_type": "markdown",
   "metadata": {},
   "source": [
    "#### Syntax"
   ]
  },
  {
   "cell_type": "code",
   "execution_count": 12,
   "metadata": {},
   "outputs": [
    {
     "name": "stdout",
     "output_type": "stream",
     "text": [
      "original- [1, 5, 3, 16, 2]\n",
      "original- [0, 66]\n"
     ]
    }
   ],
   "source": [
    "# in- place modifies the actual list or data structure\n",
    "#    0         1  :      1.       0\n",
    "#var[i], var[i+1] = var[i+1], var[i]\n",
    "\n",
    "#def swap(alist, x, y):\n",
    "#    tempa = alist[x]\n",
    "#    tempb = alist[y]\n",
    "#    alist[x] = tempb\n",
    "#    alist[y] = tempa\n",
    "\n",
    "def swap(alist, x, y):\n",
    "    alist[x], alist[y] = alist[y], alist[x]\n",
    "#       0. 1  2.  3.  4    \n",
    "nums = [1, 5, 3, 16, 2]\n",
    "eznums = [0, 66]\n",
    "\n",
    "print(f\"original- {nums}\")\n",
    "print(f\"original- {eznums}\")\n",
    "\n",
    "#swap(nums, 1, 3)\n",
    "#swap(eznums, 0, 1)\n",
    "\n",
    "#print(f\"AFTER swap- {nums}\")\n",
    "#print(f\"AFTER swap- {eznums}\")"
   ]
  },
  {
   "cell_type": "markdown",
   "metadata": {},
   "source": [
    "#### Out of Place Algorithm"
   ]
  },
  {
   "cell_type": "code",
   "execution_count": 4,
   "metadata": {},
   "outputs": [
    {
     "name": "stdout",
     "output_type": "stream",
     "text": [
      "original- [1, 16, 3, 5, 2]\n",
      "original- [66, 0]\n",
      "AFTER swap- [1, 16, 3, 5, 2]\n",
      "AFTER swap- [66, 0]\n",
      "[1, 5, 3, 16, 2]\n",
      "[0, 66]\n"
     ]
    }
   ],
   "source": [
    "# out of place returns a modified copy\n",
    "\n",
    "def swapOut(alist, x, y):\n",
    "    copy = alist[:]\n",
    "    copy[x], copy[y], = copy[y], copy[x]\n",
    "    return copy\n",
    "\n",
    "\n",
    "print(f\"original- {nums}\")\n",
    "print(f\"original- {eznums}\")\n",
    "\n",
    "a = swapOut(nums, 1, 3)\n",
    "b = swapOut(eznums, 0, 1)\n",
    "\n",
    "print(f\"AFTER swap- {nums}\")\n",
    "print(f\"AFTER swap- {eznums}\")\n",
    "print(a)\n",
    "print(b)"
   ]
  },
  {
   "cell_type": "markdown",
   "metadata": {},
   "source": [
    "#### In-Class Exercise #1 <br>\n",
    "<p>Write a function that takes in four arguments (list, index1, index2, index3), and swaps those three positions in the list passed in.</p>"
   ]
  },
  {
   "cell_type": "code",
   "execution_count": 1,
   "metadata": {},
   "outputs": [
    {
     "name": "stdout",
     "output_type": "stream",
     "text": [
      "[10, 4, 3, 8, 4, 2, 6]\n",
      "[3, 10, 4, 8, 4, 2, 6]\n"
     ]
    }
   ],
   "source": [
    "l_1 = [10, 4, 3, 8, 4, 2, 6]\n",
    "\n",
    "\n",
    "def swapOut(alist, x, y, z):\n",
    "    copy = alist[:]\n",
    "    copy[x], copy[y], copy[z] = copy[z], copy[x], copy[y]\n",
    "    return copy\n",
    "\n",
    "print(l_1)\n",
    "a = swapOut(l_1, 0, 1, 2)\n",
    "# swap(nums, 0, 4)\n",
    "print(a)"
   ]
  },
  {
   "cell_type": "markdown",
   "metadata": {},
   "source": [
    "## Two Pointers"
   ]
  },
  {
   "cell_type": "markdown",
   "metadata": {},
   "source": [
    "#### Syntax"
   ]
  },
  {
   "cell_type": "code",
   "execution_count": 10,
   "metadata": {},
   "outputs": [
    {
     "name": "stdout",
     "output_type": "stream",
     "text": [
      "[1, 2, 3, 4, 5]\n",
      "[5, 4, 3, 2, 1]\n"
     ]
    }
   ],
   "source": [
    "#.       0. 1. 2. 3. 4\n",
    "#        -5 -4 -3 -2 -1\n",
    "nums2 = [1, 2, 3, 4, 5]\n",
    "nums3 = [5, 9, 11, 56, 45, 2, 86, 21]\n",
    "def twopointer(numlist):\n",
    "    #create our pointers\n",
    "    left = 0\n",
    "    right = len(numlist)-1\n",
    "    while left < right:\n",
    "        numlist[left], numlist[right] = numlist[right], numlist[left]\n",
    "        left += 1\n",
    "        right -= 1\n",
    "\n",
    "        \n",
    "print(nums2)\n",
    "twopointer(nums2)\n",
    "print(nums2)        \n"
   ]
  },
  {
   "cell_type": "markdown",
   "metadata": {},
   "source": [
    "#### Video of Algorithms <br>\n",
    "<p>Watch the video about algorithms.</p>\n",
    "\n",
    "https://www.youtube.com/watch?v=Q9HjeFD62Uk\n",
    "\n",
    "https://www.youtube.com/watch?v=kPRA0W1kECg\n",
    "\n",
    "https://www.youtube.com/watch?v=ZZuD6iUe3Pc"
   ]
  },
  {
   "cell_type": "markdown",
   "metadata": {},
   "source": [
    "# Sorting Algorithms"
   ]
  },
  {
   "cell_type": "markdown",
   "metadata": {},
   "source": [
    "#### Bubble Sort\n",
    "\n",
    "Worst Case: O(n^2) Time - O(1) Space"
   ]
  },
  {
   "cell_type": "code",
   "execution_count": 19,
   "metadata": {},
   "outputs": [
    {
     "name": "stdout",
     "output_type": "stream",
     "text": [
      "[5, 3, 84, 65, 10, 91, 2]\n",
      "[2, 3, 5, 10, 65, 84, 91]\n"
     ]
    }
   ],
   "source": [
    "# this is going to be a helper func for us here\n",
    "def swap(alist, x, y):\n",
    "    alist[x], alist[y] = alist[y], alist[x]\n",
    "    \n",
    "def bubbleSort(arr):\n",
    "    for x in range(len(arr)):\n",
    "        count = 0\n",
    "#         print(f\"count-{count}\")\n",
    "        for i in range(len(arr)-1):\n",
    "#             print(f\"i-{i}\")\n",
    "            if arr[i] > arr[i+1]:\n",
    "                swap(arr, i, i+1)\n",
    "        count += 1\n",
    "nums5 = [5, 3, 84, 65, 10, 91, 2]\n",
    "# print(nums5)\n",
    "# bubbleSort(nums5)\n",
    "# print(nums5)\n",
    "\n",
    "def bubbleSortOp(arr):\n",
    "    isSorted = False\n",
    "    while not isSorted:\n",
    "        isSorted = True\n",
    "#         for i in range(len(arr)):# watch the error\n",
    "        for i in range(len(arr)-1):\n",
    "              if arr[i] > arr[i+1]:\n",
    "                swap(arr, i, i+1)\n",
    "                isSorted = False\n",
    "print(nums5)\n",
    "bubbleSortOp(nums5)\n",
    "print(nums5)\n"
   ]
  },
  {
   "cell_type": "markdown",
   "metadata": {},
   "source": [
    "##### Insertion Sort\n",
    "\n",
    "Worst Case: O(n^2) time - O(1)space"
   ]
  },
  {
   "cell_type": "code",
   "execution_count": 4,
   "metadata": {},
   "outputs": [
    {
     "name": "stdout",
     "output_type": "stream",
     "text": [
      "[55, 1, 99, 65, 41, 3, 8, 74]\n",
      "[1, 3, 8, 41, 55, 65, 74, 99]\n"
     ]
    }
   ],
   "source": [
    "def swap(alist, x, y):\n",
    "    alist[x], alist[y] = alist[y], alist[x]\n",
    "    \n",
    "def isSort(arr):\n",
    "    for i in range(len(arr)):\n",
    "        j = i\n",
    "        while j > 0 and arr[j] < arr[j-1]:\n",
    "            swap(nums6, j, j-1)\n",
    "            j-=1\n",
    "            \n",
    "nums6 = [55, 1, 99, 65, 41, 3, 8, 74]\n",
    "\n",
    "print(nums6)\n",
    "isSort(nums6)\n",
    "print(nums6)"
   ]
  },
  {
   "cell_type": "markdown",
   "metadata": {},
   "source": [
    "## Merge Sort"
   ]
  },
  {
   "cell_type": "markdown",
   "metadata": {},
   "source": [
    "#### How it Works"
   ]
  },
  {
   "cell_type": "code",
   "execution_count": 22,
   "metadata": {},
   "outputs": [
    {
     "name": "stdout",
     "output_type": "stream",
     "text": [
      "[55, 1, 99, 65, 41, 3, 8, 74, 51, 95, 165, 4, 8]\n",
      "Splitting. . .  [55, 1, 99, 65, 41, 3, 8, 74, 51, 95, 165, 4, 8]\n",
      "Splitting. . .  [55, 1, 99, 65, 41, 3]\n",
      "Splitting. . .  [55, 1, 99]\n",
      "Splitting. . .  [55]\n",
      "Splitting. . .  [1, 99]\n",
      "Splitting. . .  [1]\n",
      "Splitting. . .  [99]\n",
      "Merging. . . [1, 99]\n",
      "Merging. . . [1, 55, 99]\n",
      "Splitting. . .  [65, 41, 3]\n",
      "Splitting. . .  [65]\n",
      "Splitting. . .  [41, 3]\n",
      "Splitting. . .  [41]\n",
      "Splitting. . .  [3]\n",
      "Merging. . . [3, 41]\n",
      "Merging. . . [3, 41, 65]\n",
      "Merging. . . [1, 3, 41, 55, 65, 99]\n",
      "Splitting. . .  [8, 74, 51, 95, 165, 4, 8]\n",
      "Splitting. . .  [8, 74, 51]\n",
      "Splitting. . .  [8]\n",
      "Splitting. . .  [74, 51]\n",
      "Splitting. . .  [74]\n",
      "Splitting. . .  [51]\n",
      "Merging. . . [51, 74]\n",
      "Merging. . . [8, 51, 74]\n",
      "Splitting. . .  [95, 165, 4, 8]\n",
      "Splitting. . .  [95, 165]\n",
      "Splitting. . .  [95]\n",
      "Splitting. . .  [165]\n",
      "Merging. . . [95, 165]\n",
      "Splitting. . .  [4, 8]\n",
      "Splitting. . .  [4]\n",
      "Splitting. . .  [8]\n",
      "Merging. . . [4, 8]\n",
      "Merging. . . [4, 8, 95, 165]\n",
      "Merging. . . [4, 8, 8, 51, 74, 95, 165]\n",
      "Merging. . . [1, 3, 4, 8, 8, 41, 51, 55, 65, 74, 95, 99, 165]\n",
      "[1, 3, 4, 8, 8, 41, 51, 55, 65, 74, 95, 99, 165]\n"
     ]
    }
   ],
   "source": [
    "# 1. Spliteverything from the middle and keep going until we can't go any further\n",
    "# 2. From left to right merge groups together\n",
    "# 3. while merging, place each where it belongs within the merged group\n",
    "# 4. repeat, keep going, all the way up the chain\n",
    "\n",
    "def mergeSort(alist):\n",
    "    print('Splitting. . . ', alist)\n",
    "    # step 1\n",
    "    if len(alist) > 1:\n",
    "        mid = len(alist)//2\n",
    "        lefthalf = alist[:mid]\n",
    "        righthalf = alist[mid:]\n",
    "        \n",
    "        # this is our recursive call!\n",
    "        mergeSort(lefthalf)\n",
    "        mergeSort(righthalf)\n",
    "        \n",
    "        # creat our pointers\n",
    "        i, j, k = 0, 0, 0\n",
    "        \n",
    "        # step 2 Let's comapre lefthalf to righthalf\n",
    "        while i < len(lefthalf) and j < len(righthalf):\n",
    "            if lefthalf[i] < righthalf[j]:\n",
    "                alist[k] = lefthalf[i]\n",
    "                i += 1\n",
    "            else:\n",
    "                alist[k] = righthalf[j]\n",
    "                j += 1\n",
    "            k += 1\n",
    "        # step 3 - while merging: placement\n",
    "        while i < len(lefthalf):\n",
    "            alist[k] = lefthalf[i]\n",
    "            i += 1\n",
    "            k += 1\n",
    "        while j < len(righthalf):\n",
    "            alist[k] = righthalf[j]\n",
    "            j += 1\n",
    "            k += 1\n",
    "        print('Merging. . .', alist)   \n",
    "        \n",
    "nums7 = [55, 1, 99, 65, 41, 3, 8, 74, 51, 95, 165, 4, 8]\n",
    "print(nums7)\n",
    "mergeSort(nums7)\n",
    "print(nums7)"
   ]
  },
  {
   "cell_type": "markdown",
   "metadata": {},
   "source": [
    "# Binary Search\n",
    "\n",
    "The Binary Search algorithm works by finding the number in the middle of a given array and comparing it to the target. Given that the array is sorted\n",
    "\n",
    "* The worst case run time for this algorithm is `O(log(n))`"
   ]
  },
  {
   "cell_type": "code",
   "execution_count": 34,
   "metadata": {},
   "outputs": [
    {
     "name": "stdout",
     "output_type": "stream",
     "text": [
      "[1, 3, 4, 8, 8, 41, 51, 55, 65, 74, 95, 99, 165]\n"
     ]
    },
    {
     "data": {
      "text/plain": [
       "'I found your target at index: 0'"
      ]
     },
     "execution_count": 34,
     "metadata": {},
     "output_type": "execute_result"
    }
   ],
   "source": [
    "print(nums7)\n",
    "nums8 = [1, 3, 4, 9, 11, 18, 50, 68, 97]\n",
    "def binSearch(nums, target):\n",
    "    left = 0 \n",
    "    right = len(nums)-1\n",
    "    while left < right:\n",
    "        mid = (left + right)//2\n",
    "        potentialMatch = nums[mid]\n",
    "        if target == potentialMatch:\n",
    "            return f\"I found your target at index: {mid}\"\n",
    "        elif target < potentialMatch:\n",
    "            right = mid - 1\n",
    "        elif target > potentialMatch:\n",
    "            left = mid + 1\n",
    "    return f\"Sorry your target isn't there!!!!\"\n",
    "binSearch(nums7, 1)"
   ]
  },
  {
   "cell_type": "markdown",
   "metadata": {},
   "source": [
    "# Exercises"
   ]
  },
  {
   "cell_type": "markdown",
   "metadata": {},
   "source": [
    "### Exercise #1 <br>\n",
    "<p>Reverse the list below in-place using an in-place algorithm.<br>For extra credit: Reverse the strings at the same time.</p>"
   ]
  },
  {
   "cell_type": "code",
   "execution_count": 62,
   "metadata": {},
   "outputs": [
    {
     "name": "stdout",
     "output_type": "stream",
     "text": [
      "['this', 'is', 'a', 'sentence', '.']\n",
      "['sentence', 'is', 'a', '.', 'this']\n"
     ]
    }
   ],
   "source": [
    "words = ['this' , 'is', 'a', 'sentence', '.']\n",
    "# need to swap list ^ \n",
    "def swap(words, a, b, c): # any val can go into ()\n",
    "    copy = words[:]\n",
    "    copy[a], copy[b], copy[c] = copy[c], copy[a], copy[b] # make sure to swap the first and last\n",
    "    return copy\n",
    "# print the original list first to see how the swapped list output looks \n",
    "print(words)\n",
    "x = swap(words, 4, 3, 0)\n",
    "print(x)\n",
    "# tried swap and swapOut gave me the same output"
   ]
  },
  {
   "cell_type": "markdown",
   "metadata": {},
   "source": [
    "### Exercise #2 <br>\n",
    "<p>Create a function that counts how many distinct words are in the string below, then outputs a dictionary with the words as the key and the value as the amount of times that word appears in the string.<br>Should output:<br>{'a': 5,<br>\n",
    " 'abstract': 1,<br>\n",
    " 'an': 3,<br>\n",
    " 'array': 2, ... etc...</p>"
   ]
  },
  {
   "cell_type": "code",
   "execution_count": 55,
   "metadata": {},
   "outputs": [
    {
     "ename": "NameError",
     "evalue": "name 'h' is not defined",
     "output_type": "error",
     "traceback": [
      "\u001b[0;31m---------------------------------------------------------------------------\u001b[0m",
      "\u001b[0;31mNameError\u001b[0m                                 Traceback (most recent call last)",
      "\u001b[0;32m/var/folders/ff/tzt384m93h9d9cqb6stcvb980000gn/T/ipykernel_29986/2104916845.py\u001b[0m in \u001b[0;36m<module>\u001b[0;34m\u001b[0m\n\u001b[1;32m      9\u001b[0m         \u001b[0mprint\u001b[0m\u001b[0;34m(\u001b[0m\u001b[0;32mNone\u001b[0m\u001b[0;34m)\u001b[0m\u001b[0;34m\u001b[0m\u001b[0;34m\u001b[0m\u001b[0m\n\u001b[1;32m     10\u001b[0m \u001b[0;34m\u001b[0m\u001b[0m\n\u001b[0;32m---> 11\u001b[0;31m \u001b[0mprint\u001b[0m\u001b[0;34m(\u001b[0m\u001b[0mcount\u001b[0m\u001b[0;34m(\u001b[0m\u001b[0ma_text\u001b[0m\u001b[0;34m)\u001b[0m\u001b[0;34m)\u001b[0m\u001b[0;34m\u001b[0m\u001b[0;34m\u001b[0m\u001b[0m\n\u001b[0m",
      "\u001b[0;32m/var/folders/ff/tzt384m93h9d9cqb6stcvb980000gn/T/ipykernel_29986/2104916845.py\u001b[0m in \u001b[0;36mcount\u001b[0;34m(a_text)\u001b[0m\n\u001b[1;32m      4\u001b[0m     \u001b[0;32mif\u001b[0m \u001b[0mcount\u001b[0m \u001b[0;34m==\u001b[0m \u001b[0ma\u001b[0m\u001b[0;34m:\u001b[0m\u001b[0;34m\u001b[0m\u001b[0;34m\u001b[0m\u001b[0m\n\u001b[1;32m      5\u001b[0m         \u001b[0mprint\u001b[0m\u001b[0;34m(\u001b[0m\u001b[0;36m20\u001b[0m\u001b[0;34m)\u001b[0m\u001b[0;34m\u001b[0m\u001b[0;34m\u001b[0m\u001b[0m\n\u001b[0;32m----> 6\u001b[0;31m     \u001b[0;32melif\u001b[0m \u001b[0mcount\u001b[0m \u001b[0;34m<=\u001b[0m \u001b[0mh\u001b[0m\u001b[0;34m:\u001b[0m\u001b[0;34m\u001b[0m\u001b[0;34m\u001b[0m\u001b[0m\n\u001b[0m\u001b[1;32m      7\u001b[0m         \u001b[0mprint\u001b[0m\u001b[0;34m(\u001b[0m\u001b[0;36m5\u001b[0m\u001b[0;34m)\u001b[0m\u001b[0;34m\u001b[0m\u001b[0;34m\u001b[0m\u001b[0m\n\u001b[1;32m      8\u001b[0m     \u001b[0;32melse\u001b[0m\u001b[0;34m:\u001b[0m\u001b[0;34m\u001b[0m\u001b[0;34m\u001b[0m\u001b[0m\n",
      "\u001b[0;31mNameError\u001b[0m: name 'h' is not defined"
     ]
    }
   ],
   "source": [
    "a_text = 'In computing, a hash table hash map is a data structure which implements an associative array abstract data type, a structure that can map keys to values. A hash table uses a hash function to compute an index into an array of buckets or slots from which the desired value can be found'\n",
    "\n",
    "def count(a_text):\n",
    "    if count == a:\n",
    "        print(20)\n",
    "    elif count <= h:\n",
    "        print(5)\n",
    "    else:\n",
    "        print(None)\n",
    "        \n",
    "print(count(a_text))\n"
   ]
  },
  {
   "cell_type": "markdown",
   "metadata": {},
   "source": [
    "## Exercise #3\n",
    "\n",
    "Write a program to implement a Linear Search Algorithm. Also in a comment, write the Time Complexity of the following algorithm.\n",
    "\n",
    "#### Hint: Linear Searching will require searching a list for a given number. "
   ]
  },
  {
   "cell_type": "code",
   "execution_count": 51,
   "metadata": {},
   "outputs": [
    {
     "name": "stdout",
     "output_type": "stream",
     "text": [
      "Not found\n"
     ]
    }
   ],
   "source": [
    "# find a target in a list \n",
    "def search(num, x):\n",
    "    i = 0\n",
    "    \n",
    "    while i < len(num): # I is less than length of num\n",
    "        if nums[i] == x:\n",
    "            return True\n",
    "        i = i + 1\n",
    "    return False\n",
    "# have a list then have a \n",
    "num = [25, 56, 17, 4, 29, 35, 0]\n",
    "x = 12\n",
    "\n",
    "if search(num, x):\n",
    "    print(\"Found\")\n",
    "else:\n",
    "    print(\"Not found\")\n"
   ]
  }
 ],
 "metadata": {
  "kernelspec": {
   "display_name": "Python 3 (ipykernel)",
   "language": "python",
   "name": "python3"
  },
  "language_info": {
   "codemirror_mode": {
    "name": "ipython",
    "version": 3
   },
   "file_extension": ".py",
   "mimetype": "text/x-python",
   "name": "python",
   "nbconvert_exporter": "python",
   "pygments_lexer": "ipython3",
   "version": "3.9.13"
  }
 },
 "nbformat": 4,
 "nbformat_minor": 2
}
